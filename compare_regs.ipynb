{
 "cells": [
  {
   "cell_type": "code",
   "execution_count": null,
   "id": "b0fd7217-9004-449c-b47f-479a450eb0c7",
   "metadata": {},
   "outputs": [],
   "source": [
    "import tensorflow as tf\n",
    "import numpy as np\n",
    "from wr_callback import WeightsReset, PrintEpoch\n",
    "from matplotlib import pyplot as plt\n",
    "import time\n",
    "from datasets import load_dataset, Dataset as D\n",
    "from utils import plot_history, get_dataset_name, get_csv_filename\n",
    "from simple_model import make_model\n",
    "import csv\n",
    "from reg_configs import reg_configs"
   ]
  },
  {
   "cell_type": "markdown",
   "id": "444117ed-ab63-41d7-9c44-a63474f4439e",
   "metadata": {},
   "source": [
    "## Params"
   ]
  },
  {
   "cell_type": "code",
   "execution_count": null,
   "id": "cbc604f2-cb6f-4f7b-b126-cb6c3d05cdc4",
   "metadata": {},
   "outputs": [],
   "source": [
    "DATASET = D.IMAGENETTE\n",
    "BATCH_SIZE = 32\n",
    "PENULTIMATE = 512\n",
    "EPOCHS = 80"
   ]
  },
  {
   "cell_type": "markdown",
   "id": "163783a8-505b-4226-878b-c8cda52eb3a8",
   "metadata": {},
   "source": [
    "## Dataset init"
   ]
  },
  {
   "cell_type": "code",
   "execution_count": null,
   "id": "dbba29b0-899e-480c-9e61-e64182c0458b",
   "metadata": {},
   "outputs": [],
   "source": [
    "dataset_train, dataset_test, im_shape, num_classes = load_dataset(DATASET, batch_size = BATCH_SIZE)"
   ]
  },
  {
   "cell_type": "markdown",
   "id": "239a063d-270b-4f0c-879f-1a494bd059d1",
   "metadata": {},
   "source": [
    "## Model init"
   ]
  },
  {
   "cell_type": "code",
   "execution_count": null,
   "id": "0e52986b-8fbb-45a7-a59d-2f7ffd4e20e9",
   "metadata": {},
   "outputs": [],
   "source": [
    "model = make_model(\n",
    "    im_shape, PENULTIMATE, num_classes\n",
    ")"
   ]
  },
  {
   "cell_type": "code",
   "execution_count": null,
   "id": "9a276980-2e63-47f1-abcd-8d4e7d992f45",
   "metadata": {},
   "outputs": [],
   "source": [
    "model.summary()"
   ]
  },
  {
   "cell_type": "code",
   "execution_count": null,
   "id": "e6faf682-0139-4527-b1bd-2655e742815e",
   "metadata": {},
   "outputs": [],
   "source": [
    "model_init_weights = model.get_weights()"
   ]
  },
  {
   "cell_type": "markdown",
   "id": "58048b11-f948-4c12-9581-3bc5cb5d1022",
   "metadata": {},
   "source": [
    "## CSV init"
   ]
  },
  {
   "cell_type": "code",
   "execution_count": null,
   "id": "b64dc8e1-6f2a-42b1-baa8-d32b96bee601",
   "metadata": {},
   "outputs": [],
   "source": [
    "dataset_name = get_dataset_name(DATASET)\n",
    "csv_file_name = get_csv_filename('compare', dataset_name)\n",
    "\n",
    "with open(csv_file_name, 'w+', encoding='UTF8', newline='') as f:\n",
    "    writer = csv.writer(f)\n",
    "    writer.writerow(['config', 'best train loss', 'best test loss'])"
   ]
  },
  {
   "cell_type": "markdown",
   "id": "e57cd880-68f1-4c74-b3e8-1760528810f8",
   "metadata": {},
   "source": [
    "## Train model with WR"
   ]
  },
  {
   "cell_type": "code",
   "execution_count": null,
   "id": "0c4307c5-682f-4e5e-861e-7fc3b0c4e97c",
   "metadata": {},
   "outputs": [],
   "source": [
    "glorot_init = tf.keras.initializers.GlorotNormal()\n",
    "he_init = tf.keras.initializers.HeNormal()\n",
    "\n",
    "model.compile(\n",
    "    optimizer=tf.keras.optimizers.Adam(learning_rate=1e-4),\n",
    "    loss=\"categorical_crossentropy\",\n",
    "    metrics=[\"accuracy\", \"categorical_crossentropy\"],\n",
    ")\n",
    "\n",
    "layers_for_reset = [\n",
    "    {\"layer\": model.get_layer(name = \"dense_1\"), \"rand_lvl\": 1.0, \"weights_initializer\": glorot_init},\n",
    "    {\"layer\": model.get_layer(name = \"dense\"), \"rand_lvl\": 1.0, \"weights_initializer\": he_init}\n",
    "]\n",
    "\n",
    "wr = WeightsReset(\n",
    "    layers_for_reset, \n",
    "    perform_reset = True, collect_stats = False, collect_weights = False, train_dataset = dataset_train)\n",
    "\n",
    "model_wr_hist = model.fit(\n",
    "    dataset_train,\n",
    "    epochs=EPOCHS,\n",
    "    validation_data=dataset_test,\n",
    "    callbacks=[wr,PrintEpoch()],\n",
    "    verbose=0\n",
    ")\n",
    "\n",
    "best_epoch_wr = np.argmin(model_wr_hist.history['val_categorical_crossentropy'])\n",
    "best_train_loss_wr = model_wr_hist.history['categorical_crossentropy'][best_epoch_wr]\n",
    "best_test_loss_wr = model_wr_hist.history['val_categorical_crossentropy'][best_epoch_wr]\n",
    "\n",
    "print(f'WR model, best train loss {best_train_loss_wr}, best test loss {best_test_loss_wr}')\n",
    "\n",
    "with open(csv_file_name, 'a', encoding='UTF8', newline='') as f:\n",
    "    writer = csv.writer(f)\n",
    "    writer.writerow(['WR model', best_train_loss_wr, best_test_loss_wr])"
   ]
  },
  {
   "cell_type": "code",
   "execution_count": null,
   "id": "4740e666-e4f0-4222-8507-b52b855c97a0",
   "metadata": {},
   "outputs": [],
   "source": [
    "plot_history(model_wr_hist.history)"
   ]
  },
  {
   "cell_type": "markdown",
   "id": "e90a6322-1224-4af9-97f1-97e73b509aac",
   "metadata": {},
   "source": [
    "## Train model without WR"
   ]
  },
  {
   "cell_type": "code",
   "execution_count": null,
   "id": "5d7a1ed7-c13b-4cf5-89e3-cd1b60043953",
   "metadata": {},
   "outputs": [],
   "source": [
    "tf.keras.backend.clear_session()\n",
    "model = make_model(\n",
    "    im_shape, PENULTIMATE, num_classes\n",
    ")\n",
    "model.set_weights(model_init_weights)\n",
    "\n",
    "model.compile(\n",
    "    optimizer=tf.keras.optimizers.Adam(learning_rate=1e-4),\n",
    "    loss=\"categorical_crossentropy\",\n",
    "    metrics=[\"accuracy\", \"categorical_crossentropy\"],\n",
    ")\n",
    "\n",
    "wr = WeightsReset([], perform_reset = False, train_dataset = dataset_train)\n",
    "\n",
    "model_nowr_hist = model.fit(\n",
    "    dataset_train,\n",
    "    epochs=EPOCHS,\n",
    "    validation_data=dataset_test,\n",
    "    callbacks=[wr,PrintEpoch()],\n",
    "    verbose=0\n",
    ")\n",
    "\n",
    "best_epoch_nowr = np.argmin(model_nowr_hist.history['val_categorical_crossentropy'])\n",
    "best_train_loss_nowr = model_nowr_hist.history['categorical_crossentropy'][best_epoch_nowr]\n",
    "best_test_loss_nowr = model_nowr_hist.history['val_categorical_crossentropy'][best_epoch_nowr]\n",
    "\n",
    "print(f'NOWR model, best train loss {best_train_loss_nowr}, best test loss {best_test_loss_nowr}')\n",
    "\n",
    "with open(csv_file_name, 'a', encoding='UTF8', newline='') as f:\n",
    "    writer = csv.writer(f)\n",
    "    writer.writerow(['No WR model', best_train_loss_nowr, best_test_loss_nowr])"
   ]
  },
  {
   "cell_type": "code",
   "execution_count": null,
   "id": "00d56754-a4ea-4abf-ba94-e1ae93731183",
   "metadata": {},
   "outputs": [],
   "source": [
    "plot_history(model_nowr_hist.history)"
   ]
  },
  {
   "cell_type": "markdown",
   "id": "ef880310-9204-4870-a18f-81fda62d75a1",
   "metadata": {},
   "source": [
    "## Train model with other regularizations"
   ]
  },
  {
   "cell_type": "code",
   "execution_count": null,
   "id": "cd55233c-ced1-4eb8-b760-f765e0bd84e8",
   "metadata": {},
   "outputs": [],
   "source": [
    "with open(csv_file_name, 'a', encoding='UTF8', newline='') as f:\n",
    "    writer = csv.writer(f)\n",
    "    for config in reg_configs:\n",
    "        tf.keras.backend.clear_session()\n",
    "        model = make_model(\n",
    "            im_shape, PENULTIMATE, num_classes,\n",
    "            reg = config\n",
    "        )\n",
    "        model.set_weights(model_init_weights)\n",
    "        model.compile(\n",
    "            optimizer=tf.keras.optimizers.Adam(learning_rate=1e-4),\n",
    "            loss=\"categorical_crossentropy\",\n",
    "            metrics=[\"accuracy\", \"categorical_crossentropy\"],\n",
    "        )\n",
    "\n",
    "        wr = WeightsReset([], perform_reset = False, train_dataset = dataset_train)\n",
    "\n",
    "        print(f'---Config: {config}--')\n",
    "        model_hist = model.fit(\n",
    "            dataset_train,\n",
    "            epochs=EPOCHS,\n",
    "            validation_data=dataset_test,\n",
    "            callbacks=[wr,PrintEpoch()],\n",
    "            verbose=0\n",
    "        )\n",
    "\n",
    "        best_epoch = np.argmin(model_hist.history['val_categorical_crossentropy'])\n",
    "        best_train_loss = model_hist.history['categorical_crossentropy'][best_epoch]\n",
    "        best_test_loss = model_hist.history['val_categorical_crossentropy'][best_epoch]\n",
    "        print(f'best train loss {best_train_loss}, best test loss {best_test_loss}')\n",
    "        print('---end---')\n",
    "\n",
    "        writer.writerow([f'config {config}', best_train_loss, best_test_loss])\n",
    "\n",
    "        time.sleep(100) # gpu cooler :)"
   ]
  },
  {
   "cell_type": "code",
   "execution_count": null,
   "id": "522ec1e2-4b15-41cf-8f93-9e04f016f287",
   "metadata": {},
   "outputs": [],
   "source": []
  }
 ],
 "metadata": {
  "kernelspec": {
   "display_name": "Python 3 (ipykernel)",
   "language": "python",
   "name": "python3"
  },
  "language_info": {
   "codemirror_mode": {
    "name": "ipython",
    "version": 3
   },
   "file_extension": ".py",
   "mimetype": "text/x-python",
   "name": "python",
   "nbconvert_exporter": "python",
   "pygments_lexer": "ipython3",
   "version": "3.8.13"
  }
 },
 "nbformat": 4,
 "nbformat_minor": 5
}
